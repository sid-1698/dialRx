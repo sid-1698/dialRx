{
 "cells": [
  {
   "cell_type": "code",
   "execution_count": 233,
   "metadata": {},
   "outputs": [],
   "source": [
    "import pandas as pd \n",
    "import numpy as np\n",
    "import html\n",
    "import matplotlib.pyplot as plt\n",
    "from rapidfuzz import process\n",
    "\n",
    "import warnings\n",
    "warnings.filterwarnings(\"ignore\")"
   ]
  },
  {
   "cell_type": "code",
   "execution_count": 234,
   "metadata": {},
   "outputs": [],
   "source": [
    "import pandas as pd\n",
    "\n",
    "def is_meaningful_review(text):\n",
    "    \"\"\"\n",
    "    Check if the review is meaningful (not just symbols or extremely short).\n",
    "    Args:\n",
    "    text (str): The review text to evaluate.\n",
    "\n",
    "    Returns:\n",
    "    bool: True if the text is considered a meaningful review, False otherwise.\n",
    "    \"\"\"\n",
    "    return len(text) > 15 and any(char.isalpha() for char in text)\n",
    "\n",
    "def clean_dataset(file_path):\n",
    "    \"\"\"\n",
    "    Load and clean the dataset, filtering out invalid entries and decoding HTML entities in reviews.\n",
    "    Args:\n",
    "    file_path (str): The path to the dataset file.\n",
    "\n",
    "    Returns:\n",
    "    DataFrame: The cleaned pandas DataFrame.\n",
    "    \"\"\"\n",
    "    # Load the dataset\n",
    "    data = pd.read_csv(file_path, sep='\\t', index_col=0)\n",
    "\n",
    "    # Clean the data\n",
    "    cleaned_data = data[\n",
    "        data['drugName'].notna() & \n",
    "        data['condition'].notna() & \n",
    "        data['condition'].apply(lambda x: isinstance(x, str) and not x.isdigit() and \" users found this comment helpful.\" not in x) &\n",
    "        data['review'].apply(is_meaningful_review)\n",
    "    ]\n",
    "\n",
    "    # Decode HTML entities in the review column\n",
    "    cleaned_data['review'] = cleaned_data['review'].apply(html.unescape)\n",
    "\n",
    "    return cleaned_data"
   ]
  },
  {
   "cell_type": "code",
   "execution_count": 142,
   "metadata": {},
   "outputs": [],
   "source": [
    "raw_df_1 = clean_dataset(\"./application/data/drugsComTest_raw.tsv\")\n",
    "raw_df_2 = clean_dataset(\"./application/data/drugsComTrain_raw.tsv\")\n",
    "df = pd.concat([raw_df_1, raw_df_2], ignore_index=True)\n",
    "data = pd.read_csv(\"./application/data/medicine_dataset.csv\", index_col=0)"
   ]
  },
  {
   "cell_type": "code",
   "execution_count": 143,
   "metadata": {},
   "outputs": [],
   "source": [
    "drugNames = list(df.drugName.apply(lambda x: x.lower()).unique())"
   ]
  },
  {
   "cell_type": "code",
   "execution_count": 144,
   "metadata": {},
   "outputs": [],
   "source": [
    "classes = []\n",
    "for col in [\"Chemical Class\", \"Action Class\", \"Therapeutic Class\"]:\n",
    "    classes += list(data[col].apply(lambda x: x.lower() if str(x) != \"nan\" else \"\").unique())\n",
    "drugs = []\n",
    "for col in [\"name\", \"substitute0\", \"substitute1\", \"substitute2\", \"substitute3\", \"substitute4\"]:\n",
    "    drugs += list(data[col].apply(lambda x: x.lower() if str(x) != \"nan\" else \"\").unique())\n",
    "\n",
    "classes = list(set(classes))\n",
    "drugs = list(set(drugs))"
   ]
  },
  {
   "cell_type": "code",
   "execution_count": 151,
   "metadata": {},
   "outputs": [],
   "source": [
    "medsDataset = data[[\"Chemical Class\", \"Action Class\", \"Therapeutic Class\"] + [\"name\", \"substitute0\", \"substitute1\", \"substitute2\", \"substitute3\", \"substitute4\"]]\n",
    "for col in medsDataset:\n",
    "    medsDataset[col] = medsDataset[col].apply(lambda x: x.lower() if str(x) != \"nan\" else \"\")\n",
    "medsDataset = medsDataset.drop_duplicates().reset_index(drop=True)"
   ]
  },
  {
   "cell_type": "code",
   "execution_count": 152,
   "metadata": {},
   "outputs": [],
   "source": [
    "drugDataset = pd.DataFrame(index=[i for i in range(len(drugNames))], columns=[\"drugName\"])\n",
    "drugDataset[\"drugName\"] = drugNames"
   ]
  },
  {
   "cell_type": "code",
   "execution_count": 154,
   "metadata": {},
   "outputs": [],
   "source": [
    "medsDataset.to_csv(\"./application/data/MedsData.csv\")\n",
    "drugDataset.to_csv(\"./application/data/DrugsData.csv\")"
   ]
  },
  {
   "cell_type": "code",
   "execution_count": 173,
   "metadata": {},
   "outputs": [],
   "source": [
    "medsDataset = medsDataset.reset_index()"
   ]
  },
  {
   "cell_type": "code",
   "execution_count": 180,
   "metadata": {},
   "outputs": [
    {
     "data": {
      "text/plain": [
       "('migrazine 10mg tablet', 72.0, 129663)"
      ]
     },
     "execution_count": 180,
     "metadata": {},
     "output_type": "execute_result"
    }
   ],
   "source": [
    "drugs = drugDataset.drugName.values\n",
    "meds = medsDataset.name.values\n",
    "match, score, ind = process.extractOne(drugs[0], meds)"
   ]
  },
  {
   "cell_type": "code",
   "execution_count": 181,
   "metadata": {},
   "outputs": [
    {
     "data": {
      "text/plain": [
       "'mirtazapine'"
      ]
     },
     "execution_count": 181,
     "metadata": {},
     "output_type": "execute_result"
    }
   ],
   "source": [
    "drugs[0]"
   ]
  },
  {
   "cell_type": "code",
   "execution_count": 187,
   "metadata": {},
   "outputs": [
    {
     "name": "stdout",
     "output_type": "stream",
     "text": [
      "name\n",
      "substitute0\n",
      "substitute1\n",
      "substitute2\n",
      "substitute3\n"
     ]
    },
    {
     "ename": "KeyboardInterrupt",
     "evalue": "",
     "output_type": "error",
     "traceback": [
      "\u001b[0;31m---------------------------------------------------------------------------\u001b[0m",
      "\u001b[0;31mKeyboardInterrupt\u001b[0m                         Traceback (most recent call last)",
      "Cell \u001b[0;32mIn[187], line 6\u001b[0m\n\u001b[1;32m      4\u001b[0m \u001b[39mprint\u001b[39m(col)\n\u001b[1;32m      5\u001b[0m \u001b[39mfor\u001b[39;00m drug \u001b[39min\u001b[39;00m drugs:\n\u001b[0;32m----> 6\u001b[0m     match, score, ind \u001b[39m=\u001b[39m process\u001b[39m.\u001b[39;49mextractOne(drug, vals)\n\u001b[1;32m      7\u001b[0m     temp\u001b[39m.\u001b[39mloc[drug, \u001b[39mf\u001b[39m\u001b[39m\"\u001b[39m\u001b[39m{\u001b[39;00mcol\u001b[39m}\u001b[39;00m\u001b[39m_match\u001b[39m\u001b[39m\"\u001b[39m] \u001b[39m=\u001b[39m match\n\u001b[1;32m      8\u001b[0m     temp\u001b[39m.\u001b[39mloc[drug, \u001b[39mf\u001b[39m\u001b[39m\"\u001b[39m\u001b[39m{\u001b[39;00mcol\u001b[39m}\u001b[39;00m\u001b[39m_score\u001b[39m\u001b[39m\"\u001b[39m] \u001b[39m=\u001b[39m score\n",
      "File \u001b[0;32msrc/rapidfuzz/process_cpp_impl.pyx:838\u001b[0m, in \u001b[0;36mrapidfuzz.process_cpp_impl.extractOne\u001b[0;34m()\u001b[0m\n",
      "File \u001b[0;32msrc/rapidfuzz/process_cpp_impl.pyx:710\u001b[0m, in \u001b[0;36mrapidfuzz.process_cpp_impl.extractOne_list\u001b[0;34m()\u001b[0m\n",
      "File \u001b[0;32msrc/rapidfuzz/process_cpp_impl.pyx:527\u001b[0m, in \u001b[0;36mrapidfuzz.process_cpp_impl.extractOne_list_f64\u001b[0;34m()\u001b[0m\n",
      "\u001b[0;31mKeyboardInterrupt\u001b[0m: "
     ]
    }
   ],
   "source": [
    "temp = pd.DataFrame(index=drugs)\n",
    "for col in [\"name\", \"substitute0\", \"substitute1\", \"substitute2\", \"substitute3\", \"substitute4\"] + [\"Chemical Class\", \"Action Class\", \"Therapeutic Class\"]:\n",
    "    \n",
    "    vals = medsDataset[col].values\n",
    "    print(col)\n",
    "    for drug in drugs:\n",
    "        match, score, ind = process.extractOne(drug, vals)\n",
    "        temp.loc[drug, f\"{col}_match\"] = match\n",
    "        temp.loc[drug, f\"{col}_score\"] = score\n",
    "        temp.loc[drug, f\"{col}_ind\"] = ind"
   ]
  },
  {
   "cell_type": "code",
   "execution_count": 195,
   "metadata": {},
   "outputs": [],
   "source": [
    "temp.loc[:,\"maxScore\"] = temp[[\"name_score\", \"substitute0_score\", \"substitute1_score\", \"substitute2_score\", \"substitute3_score\"]].idxmax(axis=1)"
   ]
  },
  {
   "cell_type": "code",
   "execution_count": 199,
   "metadata": {},
   "outputs": [],
   "source": [
    "temp[\"bestMatch\"] = temp.apply(lambda x: x[x[\"maxScore\"].split(\"_\")[0] + \"_match\"], axis=1)"
   ]
  },
  {
   "cell_type": "code",
   "execution_count": 201,
   "metadata": {},
   "outputs": [
    {
     "data": {
      "text/html": [
       "<div>\n",
       "<style scoped>\n",
       "    .dataframe tbody tr th:only-of-type {\n",
       "        vertical-align: middle;\n",
       "    }\n",
       "\n",
       "    .dataframe tbody tr th {\n",
       "        vertical-align: top;\n",
       "    }\n",
       "\n",
       "    .dataframe thead th {\n",
       "        text-align: right;\n",
       "    }\n",
       "</style>\n",
       "<table border=\"1\" class=\"dataframe\">\n",
       "  <thead>\n",
       "    <tr style=\"text-align: right;\">\n",
       "      <th></th>\n",
       "      <th>index</th>\n",
       "      <th>bestMatch</th>\n",
       "    </tr>\n",
       "  </thead>\n",
       "  <tbody>\n",
       "    <tr>\n",
       "      <th>0</th>\n",
       "      <td>mirtazapine</td>\n",
       "      <td>migrazine 10mg tablet</td>\n",
       "    </tr>\n",
       "    <tr>\n",
       "      <th>1</th>\n",
       "      <td>mesalamine</td>\n",
       "      <td>davaindia mesalazine 1200mg tablet pr</td>\n",
       "    </tr>\n",
       "    <tr>\n",
       "      <th>2</th>\n",
       "      <td>bactrim</td>\n",
       "      <td>bactrim ds tablet</td>\n",
       "    </tr>\n",
       "    <tr>\n",
       "      <th>3</th>\n",
       "      <td>contrave</td>\n",
       "      <td>contragesic tablet</td>\n",
       "    </tr>\n",
       "    <tr>\n",
       "      <th>4</th>\n",
       "      <td>cyclafem 1 / 35</td>\n",
       "      <td>azulix 1 mf forte tablet pr</td>\n",
       "    </tr>\n",
       "    <tr>\n",
       "      <th>...</th>\n",
       "      <td>...</td>\n",
       "      <td>...</td>\n",
       "    </tr>\n",
       "    <tr>\n",
       "      <th>3630</th>\n",
       "      <td>oxytocin</td>\n",
       "      <td>otocin-c ear drop</td>\n",
       "    </tr>\n",
       "    <tr>\n",
       "      <th>3631</th>\n",
       "      <td>iluvien</td>\n",
       "      <td>calciluvin syrup</td>\n",
       "    </tr>\n",
       "    <tr>\n",
       "      <th>3632</th>\n",
       "      <td>mavik</td>\n",
       "      <td>avikind cv 500mg/125mg tablet</td>\n",
       "    </tr>\n",
       "    <tr>\n",
       "      <th>3633</th>\n",
       "      <td>aldomet</td>\n",
       "      <td>aldome capsule</td>\n",
       "    </tr>\n",
       "    <tr>\n",
       "      <th>3634</th>\n",
       "      <td>grifulvin v</td>\n",
       "      <td>amfy v  vaginal gel</td>\n",
       "    </tr>\n",
       "  </tbody>\n",
       "</table>\n",
       "<p>3635 rows × 2 columns</p>\n",
       "</div>"
      ],
      "text/plain": [
       "                index                              bestMatch\n",
       "0         mirtazapine                  migrazine 10mg tablet\n",
       "1          mesalamine  davaindia mesalazine 1200mg tablet pr\n",
       "2             bactrim                      bactrim ds tablet\n",
       "3            contrave                     contragesic tablet\n",
       "4     cyclafem 1 / 35            azulix 1 mf forte tablet pr\n",
       "...               ...                                    ...\n",
       "3630         oxytocin                      otocin-c ear drop\n",
       "3631          iluvien                       calciluvin syrup\n",
       "3632            mavik          avikind cv 500mg/125mg tablet\n",
       "3633          aldomet                         aldome capsule\n",
       "3634      grifulvin v                    amfy v  vaginal gel\n",
       "\n",
       "[3635 rows x 2 columns]"
      ]
     },
     "execution_count": 201,
     "metadata": {},
     "output_type": "execute_result"
    }
   ],
   "source": [
    "temp[[\"bestMatch\"]].reset_index()"
   ]
  },
  {
   "cell_type": "code",
   "execution_count": 207,
   "metadata": {},
   "outputs": [],
   "source": []
  },
  {
   "cell_type": "code",
   "execution_count": 210,
   "metadata": {},
   "outputs": [],
   "source": [
    "columns = lines[0].split(\"\\t\")"
   ]
  },
  {
   "cell_type": "code",
   "execution_count": 213,
   "metadata": {},
   "outputs": [],
   "source": [
    "res = []\n",
    "for line in lines[1:]:\n",
    "    temp = {}\n",
    "    for col,item in zip(columns, line.split(\"\\t\")):\n",
    "        temp[col] = item\n",
    "    res.append(temp)\n",
    "res = pd.DataFrame(res)"
   ]
  },
  {
   "cell_type": "code",
   "execution_count": 219,
   "metadata": {},
   "outputs": [],
   "source": [
    "res[\"drugName\"] = res[\"DrugName\"].apply(lambda x: x.lower())"
   ]
  },
  {
   "cell_type": "code",
   "execution_count": 228,
   "metadata": {},
   "outputs": [],
   "source": [
    "existingDrugs = list(df[\"drugName\"].apply(lambda x: x.lower()).unique())\n",
    "newDrugs = list(res[\"drugName\"].unique())"
   ]
  },
  {
   "cell_type": "code",
   "execution_count": 229,
   "metadata": {},
   "outputs": [
    {
     "data": {
      "text/plain": [
       "3635"
      ]
     },
     "execution_count": 229,
     "metadata": {},
     "output_type": "execute_result"
    }
   ],
   "source": [
    "len(existingDrugs)"
   ]
  },
  {
   "cell_type": "code",
   "execution_count": 231,
   "metadata": {},
   "outputs": [
    {
     "data": {
      "text/plain": [
       "1914"
      ]
     },
     "execution_count": 231,
     "metadata": {},
     "output_type": "execute_result"
    }
   ],
   "source": [
    "len(list(set(existingDrugs).intersection(set(newDrugs))))"
   ]
  },
  {
   "cell_type": "code",
   "execution_count": 235,
   "metadata": {},
   "outputs": [
    {
     "data": {
      "text/html": [
       "<div>\n",
       "<style scoped>\n",
       "    .dataframe tbody tr th:only-of-type {\n",
       "        vertical-align: middle;\n",
       "    }\n",
       "\n",
       "    .dataframe tbody tr th {\n",
       "        vertical-align: top;\n",
       "    }\n",
       "\n",
       "    .dataframe thead th {\n",
       "        text-align: right;\n",
       "    }\n",
       "</style>\n",
       "<table border=\"1\" class=\"dataframe\">\n",
       "  <thead>\n",
       "    <tr style=\"text-align: right;\">\n",
       "      <th></th>\n",
       "      <th>ApplNo</th>\n",
       "      <th>ProductNo</th>\n",
       "      <th>Form</th>\n",
       "      <th>Strength</th>\n",
       "      <th>ReferenceDrug</th>\n",
       "      <th>DrugName</th>\n",
       "      <th>ActiveIngredient</th>\n",
       "      <th>ReferenceStandard\\n</th>\n",
       "      <th>drugName</th>\n",
       "    </tr>\n",
       "  </thead>\n",
       "  <tbody>\n",
       "    <tr>\n",
       "      <th>0</th>\n",
       "      <td>000004</td>\n",
       "      <td>004</td>\n",
       "      <td>SOLUTION/DROPS;OPHTHALMIC</td>\n",
       "      <td>1%</td>\n",
       "      <td>0</td>\n",
       "      <td>PAREDRINE</td>\n",
       "      <td>HYDROXYAMPHETAMINE HYDROBROMIDE</td>\n",
       "      <td>0\\n</td>\n",
       "      <td>paredrine</td>\n",
       "    </tr>\n",
       "    <tr>\n",
       "      <th>1</th>\n",
       "      <td>000159</td>\n",
       "      <td>001</td>\n",
       "      <td>TABLET;ORAL</td>\n",
       "      <td>500MG</td>\n",
       "      <td>0</td>\n",
       "      <td>SULFAPYRIDINE</td>\n",
       "      <td>SULFAPYRIDINE</td>\n",
       "      <td>0\\n</td>\n",
       "      <td>sulfapyridine</td>\n",
       "    </tr>\n",
       "    <tr>\n",
       "      <th>2</th>\n",
       "      <td>000552</td>\n",
       "      <td>001</td>\n",
       "      <td>INJECTABLE;INJECTION</td>\n",
       "      <td>20,000 UNITS/ML</td>\n",
       "      <td>0</td>\n",
       "      <td>LIQUAEMIN SODIUM</td>\n",
       "      <td>HEPARIN SODIUM</td>\n",
       "      <td>0\\n</td>\n",
       "      <td>liquaemin sodium</td>\n",
       "    </tr>\n",
       "    <tr>\n",
       "      <th>3</th>\n",
       "      <td>000552</td>\n",
       "      <td>002</td>\n",
       "      <td>INJECTABLE;INJECTION</td>\n",
       "      <td>40,000 UNITS/ML</td>\n",
       "      <td>0</td>\n",
       "      <td>LIQUAEMIN SODIUM</td>\n",
       "      <td>HEPARIN SODIUM</td>\n",
       "      <td>0\\n</td>\n",
       "      <td>liquaemin sodium</td>\n",
       "    </tr>\n",
       "    <tr>\n",
       "      <th>4</th>\n",
       "      <td>000552</td>\n",
       "      <td>003</td>\n",
       "      <td>INJECTABLE;INJECTION</td>\n",
       "      <td>5,000 UNITS/ML</td>\n",
       "      <td>0</td>\n",
       "      <td>LIQUAEMIN SODIUM</td>\n",
       "      <td>HEPARIN SODIUM</td>\n",
       "      <td>0\\n</td>\n",
       "      <td>liquaemin sodium</td>\n",
       "    </tr>\n",
       "    <tr>\n",
       "      <th>...</th>\n",
       "      <td>...</td>\n",
       "      <td>...</td>\n",
       "      <td>...</td>\n",
       "      <td>...</td>\n",
       "      <td>...</td>\n",
       "      <td>...</td>\n",
       "      <td>...</td>\n",
       "      <td>...</td>\n",
       "      <td>...</td>\n",
       "    </tr>\n",
       "    <tr>\n",
       "      <th>47343</th>\n",
       "      <td>761354</td>\n",
       "      <td>001</td>\n",
       "      <td>INJECTABLE;INJECTION</td>\n",
       "      <td>80MG/4ML</td>\n",
       "      <td>0</td>\n",
       "      <td>TOFIDENCE</td>\n",
       "      <td>TOCILIZUMAB-BAVI</td>\n",
       "      <td>0\\n</td>\n",
       "      <td>tofidence</td>\n",
       "    </tr>\n",
       "    <tr>\n",
       "      <th>47344</th>\n",
       "      <td>761355</td>\n",
       "      <td>001</td>\n",
       "      <td>INJECTABLE;INJECTION</td>\n",
       "      <td>8MG(0.07ML;114.3MG/ML)</td>\n",
       "      <td>0</td>\n",
       "      <td>EYLEA HD</td>\n",
       "      <td>AFLIBERCEPT</td>\n",
       "      <td>0\\n</td>\n",
       "      <td>eylea hd</td>\n",
       "    </tr>\n",
       "    <tr>\n",
       "      <th>47345</th>\n",
       "      <td>761358</td>\n",
       "      <td>001</td>\n",
       "      <td>INJECTABLE;INJECTION</td>\n",
       "      <td>120MG/ML</td>\n",
       "      <td>0</td>\n",
       "      <td>ZYMFENTRA</td>\n",
       "      <td>INFLIXIMAB-DYYB</td>\n",
       "      <td>0\\n</td>\n",
       "      <td>zymfentra</td>\n",
       "    </tr>\n",
       "    <tr>\n",
       "      <th>47346</th>\n",
       "      <td>761362</td>\n",
       "      <td>001</td>\n",
       "      <td>INJECTABLE;SUBCUTANEOUS</td>\n",
       "      <td>60MG/ML</td>\n",
       "      <td>0</td>\n",
       "      <td>JUBBONTI</td>\n",
       "      <td>DENOSUMAB-BBDZ</td>\n",
       "      <td>0\\n</td>\n",
       "      <td>jubbonti</td>\n",
       "    </tr>\n",
       "    <tr>\n",
       "      <th>47347</th>\n",
       "      <td>761362</td>\n",
       "      <td>002</td>\n",
       "      <td>INJECTABLE;SUBCUTANEOUS</td>\n",
       "      <td>120MG/1.7ML (70MG/ML)</td>\n",
       "      <td>0</td>\n",
       "      <td>WYOST</td>\n",
       "      <td>DENOSUMAB-BBDZ</td>\n",
       "      <td>0\\n</td>\n",
       "      <td>wyost</td>\n",
       "    </tr>\n",
       "  </tbody>\n",
       "</table>\n",
       "<p>47348 rows × 9 columns</p>\n",
       "</div>"
      ],
      "text/plain": [
       "       ApplNo ProductNo                       Form                Strength  \\\n",
       "0      000004       004  SOLUTION/DROPS;OPHTHALMIC                      1%   \n",
       "1      000159       001                TABLET;ORAL                   500MG   \n",
       "2      000552       001       INJECTABLE;INJECTION         20,000 UNITS/ML   \n",
       "3      000552       002       INJECTABLE;INJECTION         40,000 UNITS/ML   \n",
       "4      000552       003       INJECTABLE;INJECTION          5,000 UNITS/ML   \n",
       "...       ...       ...                        ...                     ...   \n",
       "47343  761354       001       INJECTABLE;INJECTION                80MG/4ML   \n",
       "47344  761355       001       INJECTABLE;INJECTION  8MG(0.07ML;114.3MG/ML)   \n",
       "47345  761358       001       INJECTABLE;INJECTION                120MG/ML   \n",
       "47346  761362       001    INJECTABLE;SUBCUTANEOUS                 60MG/ML   \n",
       "47347  761362       002    INJECTABLE;SUBCUTANEOUS   120MG/1.7ML (70MG/ML)   \n",
       "\n",
       "      ReferenceDrug          DrugName                 ActiveIngredient  \\\n",
       "0                 0         PAREDRINE  HYDROXYAMPHETAMINE HYDROBROMIDE   \n",
       "1                 0     SULFAPYRIDINE                    SULFAPYRIDINE   \n",
       "2                 0  LIQUAEMIN SODIUM                   HEPARIN SODIUM   \n",
       "3                 0  LIQUAEMIN SODIUM                   HEPARIN SODIUM   \n",
       "4                 0  LIQUAEMIN SODIUM                   HEPARIN SODIUM   \n",
       "...             ...               ...                              ...   \n",
       "47343             0         TOFIDENCE                 TOCILIZUMAB-BAVI   \n",
       "47344             0          EYLEA HD                      AFLIBERCEPT   \n",
       "47345             0         ZYMFENTRA                  INFLIXIMAB-DYYB   \n",
       "47346             0          JUBBONTI                   DENOSUMAB-BBDZ   \n",
       "47347             0             WYOST                   DENOSUMAB-BBDZ   \n",
       "\n",
       "      ReferenceStandard\\n          drugName  \n",
       "0                     0\\n         paredrine  \n",
       "1                     0\\n     sulfapyridine  \n",
       "2                     0\\n  liquaemin sodium  \n",
       "3                     0\\n  liquaemin sodium  \n",
       "4                     0\\n  liquaemin sodium  \n",
       "...                   ...               ...  \n",
       "47343                 0\\n         tofidence  \n",
       "47344                 0\\n          eylea hd  \n",
       "47345                 0\\n         zymfentra  \n",
       "47346                 0\\n          jubbonti  \n",
       "47347                 0\\n             wyost  \n",
       "\n",
       "[47348 rows x 9 columns]"
      ]
     },
     "execution_count": 235,
     "metadata": {},
     "output_type": "execute_result"
    }
   ],
   "source": [
    "res.drugName = "
   ]
  },
  {
   "cell_type": "code",
   "execution_count": null,
   "metadata": {},
   "outputs": [],
   "source": []
  }
 ],
 "metadata": {
  "kernelspec": {
   "display_name": "dialRx",
   "language": "python",
   "name": "python3"
  },
  "language_info": {
   "codemirror_mode": {
    "name": "ipython",
    "version": 3
   },
   "file_extension": ".py",
   "mimetype": "text/x-python",
   "name": "python",
   "nbconvert_exporter": "python",
   "pygments_lexer": "ipython3",
   "version": "3.11.4"
  },
  "orig_nbformat": 4
 },
 "nbformat": 4,
 "nbformat_minor": 2
}
