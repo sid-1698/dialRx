{
 "cells": [
  {
   "cell_type": "code",
   "execution_count": 11,
   "metadata": {},
   "outputs": [],
   "source": [
    "import pandas as pd \n",
    "import numpy as np\n",
    "import html\n",
    "import matplotlib.pyplot as plt\n",
    "from rapidfuzz import process\n"
   ]
  },
  {
   "cell_type": "code",
   "execution_count": 2,
   "metadata": {},
   "outputs": [],
   "source": [
    "data = pd.read_xml('/Users/sid98/OMSA/04_CSE_6242_DVA/ProjectFiles/DrugBank/full database.xml')"
   ]
  },
  {
   "cell_type": "code",
   "execution_count": 7,
   "metadata": {},
   "outputs": [],
   "source": [
    "data.to_csv(\"/Users/sid98/OMSA/04_CSE_6242_DVA/ProjectFiles/DrugBank/DrugBankData.csv\")"
   ]
  },
  {
   "cell_type": "code",
   "execution_count": 12,
   "metadata": {},
   "outputs": [],
   "source": [
    "import pandas as pd\n",
    "\n",
    "def is_meaningful_review(text):\n",
    "    \"\"\"\n",
    "    Check if the review is meaningful (not just symbols or extremely short).\n",
    "    Args:\n",
    "    text (str): The review text to evaluate.\n",
    "\n",
    "    Returns:\n",
    "    bool: True if the text is considered a meaningful review, False otherwise.\n",
    "    \"\"\"\n",
    "    return len(text) > 15 and any(char.isalpha() for char in text)\n",
    "\n",
    "def clean_dataset(file_path):\n",
    "    \"\"\"\n",
    "    Load and clean the dataset, filtering out invalid entries and decoding HTML entities in reviews.\n",
    "    Args:\n",
    "    file_path (str): The path to the dataset file.\n",
    "\n",
    "    Returns:\n",
    "    DataFrame: The cleaned pandas DataFrame.\n",
    "    \"\"\"\n",
    "    # Load the dataset\n",
    "    data = pd.read_csv(file_path, sep='\\t', index_col=0)\n",
    "\n",
    "    # Clean the data\n",
    "    cleaned_data = data[\n",
    "        data['drugName'].notna() & \n",
    "        data['condition'].notna() & \n",
    "        data['condition'].apply(lambda x: isinstance(x, str) and not x.isdigit() and \" users found this comment helpful.\" not in x) &\n",
    "        data['review'].apply(is_meaningful_review)\n",
    "    ]\n",
    "\n",
    "    # Decode HTML entities in the review column\n",
    "    cleaned_data['review'] = cleaned_data['review'].apply(html.unescape)\n",
    "\n",
    "    return cleaned_data"
   ]
  },
  {
   "cell_type": "code",
   "execution_count": 13,
   "metadata": {},
   "outputs": [
    {
     "name": "stderr",
     "output_type": "stream",
     "text": [
      "/var/folders/jt/lpglwths3291lvnxtdynb_fh0000gn/T/ipykernel_38547/1012854571.py:35: SettingWithCopyWarning: \n",
      "A value is trying to be set on a copy of a slice from a DataFrame.\n",
      "Try using .loc[row_indexer,col_indexer] = value instead\n",
      "\n",
      "See the caveats in the documentation: https://pandas.pydata.org/pandas-docs/stable/user_guide/indexing.html#returning-a-view-versus-a-copy\n",
      "  cleaned_data['review'] = cleaned_data['review'].apply(html.unescape)\n",
      "/var/folders/jt/lpglwths3291lvnxtdynb_fh0000gn/T/ipykernel_38547/1012854571.py:35: SettingWithCopyWarning: \n",
      "A value is trying to be set on a copy of a slice from a DataFrame.\n",
      "Try using .loc[row_indexer,col_indexer] = value instead\n",
      "\n",
      "See the caveats in the documentation: https://pandas.pydata.org/pandas-docs/stable/user_guide/indexing.html#returning-a-view-versus-a-copy\n",
      "  cleaned_data['review'] = cleaned_data['review'].apply(html.unescape)\n"
     ]
    }
   ],
   "source": [
    "raw_df_1 = clean_dataset(\"../application/data/drugsComTest_raw.tsv\")\n",
    "raw_df_2 = clean_dataset(\"../application/data/drugsComTrain_raw.tsv\")\n",
    "df = pd.concat([raw_df_1, raw_df_2], ignore_index=True)"
   ]
  },
  {
   "cell_type": "code",
   "execution_count": 25,
   "metadata": {},
   "outputs": [],
   "source": [
    "drugNames_reviews = list(df.drugName.apply(lambda x: x.lower()).unique())\n",
    "drugNames_drugBank = list(data.name.apply(lambda x: x.lower()).unique())\n",
    "\n",
    "drugNames_reviews2 = list(df.drugName.apply(lambda x: x.split(\" \")[0].lower()).unique())\n",
    "drugNames_drugBank2 = list(data.name.apply(lambda x: x.split(\" \")[0].lower()).unique())"
   ]
  },
  {
   "cell_type": "code",
   "execution_count": 27,
   "metadata": {},
   "outputs": [
    {
     "data": {
      "text/plain": [
       "1002"
      ]
     },
     "execution_count": 27,
     "metadata": {},
     "output_type": "execute_result"
    }
   ],
   "source": [
    "len(set(drugNames_drugBank2).intersection(set(drugNames_reviews2)))"
   ]
  },
  {
   "cell_type": "code",
   "execution_count": null,
   "metadata": {},
   "outputs": [],
   "source": []
  }
 ],
 "metadata": {
  "kernelspec": {
   "display_name": "dialRx",
   "language": "python",
   "name": "python3"
  },
  "language_info": {
   "codemirror_mode": {
    "name": "ipython",
    "version": 3
   },
   "file_extension": ".py",
   "mimetype": "text/x-python",
   "name": "python",
   "nbconvert_exporter": "python",
   "pygments_lexer": "ipython3",
   "version": "3.11.4"
  },
  "orig_nbformat": 4
 },
 "nbformat": 4,
 "nbformat_minor": 2
}
