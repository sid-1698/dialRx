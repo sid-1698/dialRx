{
 "cells": [
  {
   "cell_type": "code",
   "execution_count": 207,
   "metadata": {},
   "outputs": [],
   "source": [
    "import pandas as pd\n",
    "import numpy as np\n",
    "import requests\n",
    "import plotly.express as px\n",
    "from rapidfuzz import process\n",
    "import warnings\n",
    "import plotly.graph_objects as go\n",
    "warnings.filterwarnings(\"ignore\")"
   ]
  },
  {
   "cell_type": "code",
   "execution_count": 200,
   "metadata": {},
   "outputs": [],
   "source": [
    "def parseAnswer(answer: str):\n",
    "    recommendedDrugs = []\n",
    "    splitted = answer.split(\"\\n\")\n",
    "    i = 0\n",
    "    while i < len(splitted):\n",
    "        item = splitted[i]\n",
    "        if \"Drug:\" in item:\n",
    "            temp = {\"drugName\": item.split(\"Drug: \")[1]}\n",
    "            for j in range(i+1, i+5):\n",
    "                key = splitted[j].split(\":\")[0].split(\"- \")[1]\n",
    "                value = splitted[j].split(\": \")[1]\n",
    "                if ((key == \"Rating\") | (key == \"Useful Count\")):\n",
    "                    try:\n",
    "                        value = float(value)\n",
    "                    except:\n",
    "                        value = np.nan\n",
    "                temp[key] = value\n",
    "            recommendedDrugs.append(temp)\n",
    "            i += 5\n",
    "        else:\n",
    "            i += 1\n",
    "    recommendedDrugs = pd.DataFrame(recommendedDrugs)\n",
    "    return recommendedDrugs\n",
    "\n",
    "def getOtherAlternates(topDrugs: list[str], df: pd.DataFrame):\n",
    "    alternates = []\n",
    "    drugs = df.name.unique()\n",
    "    for drug in topDrugs:\n",
    "        alternate, score, ind = process.extractOne(drug, drugs)\n",
    "        if score > 80:\n",
    "            df2 = df.loc[ind,:]\n",
    "            alternates.append({\n",
    "                \"drug\": drug,\n",
    "                \"alternate\": alternate,\n",
    "                \"score\": score,\n",
    "                \"ind\": ind,\n",
    "                \"sideEffects\": \",\".join(df2.filter(regex=(\"sideEffect.*\")).fillna(\"\").unique()),\n",
    "                \"substitutes\": \",\".join(df2.filter(regex=(\"substitute.*\")).fillna(\"\").unique()),\n",
    "                \"uses\": \",\".join(df2.filter(regex=(\"use.*\")).fillna(\"\").unique()),\n",
    "                \"chemicalClass\": df2[\"Chemical Class\"],\n",
    "                \"habitForming\": df2[\"Habit Forming\"],\n",
    "                \"therapeuticClass\": df2[\"Therapeutic Class\"],\n",
    "                \"actionClass\": df2[\"Action Class\"]\n",
    "            })\n",
    "    return pd.DataFrame(alternates)\n",
    "\n",
    "def querySourceDf(doc, drugsToSearch):\n",
    "    sourceDf = pd.read_csv(f\"./application/{doc}\")\n",
    "    sourceDf = sourceDf[sourceDf.drugName.isin(drugsToSearch)]\n",
    "    sourceDf[\"date\"] = sourceDf[\"date\"].apply(lambda x:pd.to_datetime(pd.to_datetime(x).strftime(\"%Y-%m\")))\n",
    "    sourceDf = sourceDf.groupby([\"drugName\", \"date\"]).agg(\n",
    "        avgRating = (\"rating\", \"mean\"),\n",
    "        totalReviews = (\"usefulCount\",\"sum\"),\n",
    "        generalSentiment = (\"sentiment_label\",\"median\")\n",
    "    ).reset_index().sort_values(by=[\"drugName\", \"date\"], ascending=True).reset_index(drop=True)\n",
    "    return sourceDf"
   ]
  },
  {
   "cell_type": "code",
   "execution_count": 203,
   "metadata": {},
   "outputs": [],
   "source": [
    "prompt = \"Heart attack\"\n",
    "formData = {'query': prompt}\n",
    "response = requests.post('http://127.0.0.1:5000/get_response', data=formData).json()"
   ]
  },
  {
   "cell_type": "code",
   "execution_count": 204,
   "metadata": {},
   "outputs": [],
   "source": [
    "recommendedDrugs = parseAnswer(response[\"answer\"])\n",
    "df = pd.read_csv(\"./application/data/medicine_dataset.csv\")\n",
    "alternates = getOtherAlternates(recommendedDrugs.drugName.unique(), df)\n",
    "finalDf = recommendedDrugs.merge(alternates, left_on=\"drugName\", right_on=\"drug\", how=\"left\")\n",
    "sourceDf = querySourceDf(response[\"doc\"], finalDf.drugName.unique())"
   ]
  },
  {
   "cell_type": "code",
   "execution_count": 221,
   "metadata": {},
   "outputs": [
    {
     "data": {
      "text/html": [
       "<div>\n",
       "<style scoped>\n",
       "    .dataframe tbody tr th:only-of-type {\n",
       "        vertical-align: middle;\n",
       "    }\n",
       "\n",
       "    .dataframe tbody tr th {\n",
       "        vertical-align: top;\n",
       "    }\n",
       "\n",
       "    .dataframe thead th {\n",
       "        text-align: right;\n",
       "    }\n",
       "</style>\n",
       "<table border=\"1\" class=\"dataframe\">\n",
       "  <thead>\n",
       "    <tr style=\"text-align: right;\">\n",
       "      <th></th>\n",
       "      <th>drug</th>\n",
       "      <th>alternate</th>\n",
       "      <th>score</th>\n",
       "      <th>ind</th>\n",
       "      <th>sideEffects</th>\n",
       "      <th>substitutes</th>\n",
       "      <th>uses</th>\n",
       "      <th>chemicalClass</th>\n",
       "      <th>habitForming</th>\n",
       "      <th>therapeuticClass</th>\n",
       "      <th>actionClass</th>\n",
       "    </tr>\n",
       "  </thead>\n",
       "  <tbody>\n",
       "    <tr>\n",
       "      <th>0</th>\n",
       "      <td>Lisinopril</td>\n",
       "      <td>davaindia lisinopril 2.5mg tablet</td>\n",
       "      <td>81.000000</td>\n",
       "      <td>63019</td>\n",
       "      <td>Itching,Irritation,Thinning of skin,Burning se...</td>\n",
       "      <td>Benkos Ointment,Tunesol-M Ointment,Clotus GM O...</td>\n",
       "      <td>Skin infections,</td>\n",
       "      <td>NaN</td>\n",
       "      <td>No</td>\n",
       "      <td>DERMA</td>\n",
       "      <td>NaN</td>\n",
       "    </tr>\n",
       "    <tr>\n",
       "      <th>1</th>\n",
       "      <td>Metoprolol</td>\n",
       "      <td>davaindia telmisartan+metoprolol succinate 40m...</td>\n",
       "      <td>81.000000</td>\n",
       "      <td>58659</td>\n",
       "      <td>Diarrhea,Abnormal liver function tests,Rash,</td>\n",
       "      <td>Xone Hospital 1000mg Injection,Ritecef 1000mg ...</td>\n",
       "      <td>Treatment of Bacterial infections,</td>\n",
       "      <td>Broad Spectrum (Third &amp; fourth generation ceph...</td>\n",
       "      <td>No</td>\n",
       "      <td>ANTI INFECTIVES</td>\n",
       "      <td>Cephalosporins: 3 generation</td>\n",
       "    </tr>\n",
       "    <tr>\n",
       "      <th>2</th>\n",
       "      <td>Plavix</td>\n",
       "      <td>lavixan 200mg tablet</td>\n",
       "      <td>81.818182</td>\n",
       "      <td>123424</td>\n",
       "      <td>Skin peeling,Application site reactions (burni...</td>\n",
       "      <td>Ketofly Soap from Leeford for Skin Infections,...</td>\n",
       "      <td>Fungal skin infections,</td>\n",
       "      <td>Azole derivatives {Imidazoles}</td>\n",
       "      <td>No</td>\n",
       "      <td>DERMA</td>\n",
       "      <td>Fungal ergosterol synthesis inhibitor</td>\n",
       "    </tr>\n",
       "  </tbody>\n",
       "</table>\n",
       "</div>"
      ],
      "text/plain": [
       "         drug                                          alternate      score  \\\n",
       "0  Lisinopril                  davaindia lisinopril 2.5mg tablet  81.000000   \n",
       "1  Metoprolol  davaindia telmisartan+metoprolol succinate 40m...  81.000000   \n",
       "2      Plavix                               lavixan 200mg tablet  81.818182   \n",
       "\n",
       "      ind                                        sideEffects  \\\n",
       "0   63019  Itching,Irritation,Thinning of skin,Burning se...   \n",
       "1   58659       Diarrhea,Abnormal liver function tests,Rash,   \n",
       "2  123424  Skin peeling,Application site reactions (burni...   \n",
       "\n",
       "                                         substitutes  \\\n",
       "0  Benkos Ointment,Tunesol-M Ointment,Clotus GM O...   \n",
       "1  Xone Hospital 1000mg Injection,Ritecef 1000mg ...   \n",
       "2  Ketofly Soap from Leeford for Skin Infections,...   \n",
       "\n",
       "                                 uses  \\\n",
       "0                    Skin infections,   \n",
       "1  Treatment of Bacterial infections,   \n",
       "2             Fungal skin infections,   \n",
       "\n",
       "                                       chemicalClass habitForming  \\\n",
       "0                                                NaN           No   \n",
       "1  Broad Spectrum (Third & fourth generation ceph...           No   \n",
       "2                     Azole derivatives {Imidazoles}           No   \n",
       "\n",
       "  therapeuticClass                            actionClass  \n",
       "0            DERMA                                    NaN  \n",
       "1  ANTI INFECTIVES           Cephalosporins: 3 generation  \n",
       "2            DERMA  Fungal ergosterol synthesis inhibitor  "
      ]
     },
     "execution_count": 221,
     "metadata": {},
     "output_type": "execute_result"
    }
   ],
   "source": [
    "alternates"
   ]
  },
  {
   "cell_type": "code",
   "execution_count": 208,
   "metadata": {},
   "outputs": [],
   "source": [
    "fig = go.Figure([go.Scatter(x=sourceDf['date'], y=sourceDf['avgRating'])])"
   ]
  },
  {
   "cell_type": "code",
   "execution_count": 218,
   "metadata": {},
   "outputs": [],
   "source": [
    "df2 = sourceDf.groupby(\"drugName\").agg(\n",
    "    avgRating = (\"avgRating\", \"mean\"),\n",
    "    totalReviews = (\"totalReviews\", \"sum\"),\n",
    "    generalSentiment = (\"generalSentiment\", \"median\")).reset_index()"
   ]
  },
  {
   "cell_type": "code",
   "execution_count": 219,
   "metadata": {},
   "outputs": [
    {
     "data": {
      "application/vnd.plotly.v1+json": {
       "config": {
        "plotlyServerURL": "https://plot.ly"
       },
       "data": [
        {
         "fill": "toself",
         "name": "Lisinopril",
         "r": [
          5.607142857142857,
          4.981,
          2
         ],
         "theta": [
          "avgRating",
          "totalReviews",
          "generalSentiment"
         ],
         "type": "scatterpolar"
        },
        {
         "fill": "toself",
         "name": "Metoprolol",
         "r": [
          6.695578231292517,
          3.867,
          1.5
         ],
         "theta": [
          "avgRating",
          "totalReviews",
          "generalSentiment"
         ],
         "type": "scatterpolar"
        },
        {
         "fill": "toself",
         "name": "Plavix",
         "r": [
          8.333333333333334,
          0.834,
          2
         ],
         "theta": [
          "avgRating",
          "totalReviews",
          "generalSentiment"
         ],
         "type": "scatterpolar"
        }
       ],
       "layout": {
        "polar": {
         "radialaxis": {
          "range": [
           1,
           10
          ],
          "visible": true
         }
        },
        "showlegend": false,
        "template": {
         "data": {
          "bar": [
           {
            "error_x": {
             "color": "#2a3f5f"
            },
            "error_y": {
             "color": "#2a3f5f"
            },
            "marker": {
             "line": {
              "color": "#E5ECF6",
              "width": 0.5
             },
             "pattern": {
              "fillmode": "overlay",
              "size": 10,
              "solidity": 0.2
             }
            },
            "type": "bar"
           }
          ],
          "barpolar": [
           {
            "marker": {
             "line": {
              "color": "#E5ECF6",
              "width": 0.5
             },
             "pattern": {
              "fillmode": "overlay",
              "size": 10,
              "solidity": 0.2
             }
            },
            "type": "barpolar"
           }
          ],
          "carpet": [
           {
            "aaxis": {
             "endlinecolor": "#2a3f5f",
             "gridcolor": "white",
             "linecolor": "white",
             "minorgridcolor": "white",
             "startlinecolor": "#2a3f5f"
            },
            "baxis": {
             "endlinecolor": "#2a3f5f",
             "gridcolor": "white",
             "linecolor": "white",
             "minorgridcolor": "white",
             "startlinecolor": "#2a3f5f"
            },
            "type": "carpet"
           }
          ],
          "choropleth": [
           {
            "colorbar": {
             "outlinewidth": 0,
             "ticks": ""
            },
            "type": "choropleth"
           }
          ],
          "contour": [
           {
            "colorbar": {
             "outlinewidth": 0,
             "ticks": ""
            },
            "colorscale": [
             [
              0,
              "#0d0887"
             ],
             [
              0.1111111111111111,
              "#46039f"
             ],
             [
              0.2222222222222222,
              "#7201a8"
             ],
             [
              0.3333333333333333,
              "#9c179e"
             ],
             [
              0.4444444444444444,
              "#bd3786"
             ],
             [
              0.5555555555555556,
              "#d8576b"
             ],
             [
              0.6666666666666666,
              "#ed7953"
             ],
             [
              0.7777777777777778,
              "#fb9f3a"
             ],
             [
              0.8888888888888888,
              "#fdca26"
             ],
             [
              1,
              "#f0f921"
             ]
            ],
            "type": "contour"
           }
          ],
          "contourcarpet": [
           {
            "colorbar": {
             "outlinewidth": 0,
             "ticks": ""
            },
            "type": "contourcarpet"
           }
          ],
          "heatmap": [
           {
            "colorbar": {
             "outlinewidth": 0,
             "ticks": ""
            },
            "colorscale": [
             [
              0,
              "#0d0887"
             ],
             [
              0.1111111111111111,
              "#46039f"
             ],
             [
              0.2222222222222222,
              "#7201a8"
             ],
             [
              0.3333333333333333,
              "#9c179e"
             ],
             [
              0.4444444444444444,
              "#bd3786"
             ],
             [
              0.5555555555555556,
              "#d8576b"
             ],
             [
              0.6666666666666666,
              "#ed7953"
             ],
             [
              0.7777777777777778,
              "#fb9f3a"
             ],
             [
              0.8888888888888888,
              "#fdca26"
             ],
             [
              1,
              "#f0f921"
             ]
            ],
            "type": "heatmap"
           }
          ],
          "heatmapgl": [
           {
            "colorbar": {
             "outlinewidth": 0,
             "ticks": ""
            },
            "colorscale": [
             [
              0,
              "#0d0887"
             ],
             [
              0.1111111111111111,
              "#46039f"
             ],
             [
              0.2222222222222222,
              "#7201a8"
             ],
             [
              0.3333333333333333,
              "#9c179e"
             ],
             [
              0.4444444444444444,
              "#bd3786"
             ],
             [
              0.5555555555555556,
              "#d8576b"
             ],
             [
              0.6666666666666666,
              "#ed7953"
             ],
             [
              0.7777777777777778,
              "#fb9f3a"
             ],
             [
              0.8888888888888888,
              "#fdca26"
             ],
             [
              1,
              "#f0f921"
             ]
            ],
            "type": "heatmapgl"
           }
          ],
          "histogram": [
           {
            "marker": {
             "pattern": {
              "fillmode": "overlay",
              "size": 10,
              "solidity": 0.2
             }
            },
            "type": "histogram"
           }
          ],
          "histogram2d": [
           {
            "colorbar": {
             "outlinewidth": 0,
             "ticks": ""
            },
            "colorscale": [
             [
              0,
              "#0d0887"
             ],
             [
              0.1111111111111111,
              "#46039f"
             ],
             [
              0.2222222222222222,
              "#7201a8"
             ],
             [
              0.3333333333333333,
              "#9c179e"
             ],
             [
              0.4444444444444444,
              "#bd3786"
             ],
             [
              0.5555555555555556,
              "#d8576b"
             ],
             [
              0.6666666666666666,
              "#ed7953"
             ],
             [
              0.7777777777777778,
              "#fb9f3a"
             ],
             [
              0.8888888888888888,
              "#fdca26"
             ],
             [
              1,
              "#f0f921"
             ]
            ],
            "type": "histogram2d"
           }
          ],
          "histogram2dcontour": [
           {
            "colorbar": {
             "outlinewidth": 0,
             "ticks": ""
            },
            "colorscale": [
             [
              0,
              "#0d0887"
             ],
             [
              0.1111111111111111,
              "#46039f"
             ],
             [
              0.2222222222222222,
              "#7201a8"
             ],
             [
              0.3333333333333333,
              "#9c179e"
             ],
             [
              0.4444444444444444,
              "#bd3786"
             ],
             [
              0.5555555555555556,
              "#d8576b"
             ],
             [
              0.6666666666666666,
              "#ed7953"
             ],
             [
              0.7777777777777778,
              "#fb9f3a"
             ],
             [
              0.8888888888888888,
              "#fdca26"
             ],
             [
              1,
              "#f0f921"
             ]
            ],
            "type": "histogram2dcontour"
           }
          ],
          "mesh3d": [
           {
            "colorbar": {
             "outlinewidth": 0,
             "ticks": ""
            },
            "type": "mesh3d"
           }
          ],
          "parcoords": [
           {
            "line": {
             "colorbar": {
              "outlinewidth": 0,
              "ticks": ""
             }
            },
            "type": "parcoords"
           }
          ],
          "pie": [
           {
            "automargin": true,
            "type": "pie"
           }
          ],
          "scatter": [
           {
            "fillpattern": {
             "fillmode": "overlay",
             "size": 10,
             "solidity": 0.2
            },
            "type": "scatter"
           }
          ],
          "scatter3d": [
           {
            "line": {
             "colorbar": {
              "outlinewidth": 0,
              "ticks": ""
             }
            },
            "marker": {
             "colorbar": {
              "outlinewidth": 0,
              "ticks": ""
             }
            },
            "type": "scatter3d"
           }
          ],
          "scattercarpet": [
           {
            "marker": {
             "colorbar": {
              "outlinewidth": 0,
              "ticks": ""
             }
            },
            "type": "scattercarpet"
           }
          ],
          "scattergeo": [
           {
            "marker": {
             "colorbar": {
              "outlinewidth": 0,
              "ticks": ""
             }
            },
            "type": "scattergeo"
           }
          ],
          "scattergl": [
           {
            "marker": {
             "colorbar": {
              "outlinewidth": 0,
              "ticks": ""
             }
            },
            "type": "scattergl"
           }
          ],
          "scattermapbox": [
           {
            "marker": {
             "colorbar": {
              "outlinewidth": 0,
              "ticks": ""
             }
            },
            "type": "scattermapbox"
           }
          ],
          "scatterpolar": [
           {
            "marker": {
             "colorbar": {
              "outlinewidth": 0,
              "ticks": ""
             }
            },
            "type": "scatterpolar"
           }
          ],
          "scatterpolargl": [
           {
            "marker": {
             "colorbar": {
              "outlinewidth": 0,
              "ticks": ""
             }
            },
            "type": "scatterpolargl"
           }
          ],
          "scatterternary": [
           {
            "marker": {
             "colorbar": {
              "outlinewidth": 0,
              "ticks": ""
             }
            },
            "type": "scatterternary"
           }
          ],
          "surface": [
           {
            "colorbar": {
             "outlinewidth": 0,
             "ticks": ""
            },
            "colorscale": [
             [
              0,
              "#0d0887"
             ],
             [
              0.1111111111111111,
              "#46039f"
             ],
             [
              0.2222222222222222,
              "#7201a8"
             ],
             [
              0.3333333333333333,
              "#9c179e"
             ],
             [
              0.4444444444444444,
              "#bd3786"
             ],
             [
              0.5555555555555556,
              "#d8576b"
             ],
             [
              0.6666666666666666,
              "#ed7953"
             ],
             [
              0.7777777777777778,
              "#fb9f3a"
             ],
             [
              0.8888888888888888,
              "#fdca26"
             ],
             [
              1,
              "#f0f921"
             ]
            ],
            "type": "surface"
           }
          ],
          "table": [
           {
            "cells": {
             "fill": {
              "color": "#EBF0F8"
             },
             "line": {
              "color": "white"
             }
            },
            "header": {
             "fill": {
              "color": "#C8D4E3"
             },
             "line": {
              "color": "white"
             }
            },
            "type": "table"
           }
          ]
         },
         "layout": {
          "annotationdefaults": {
           "arrowcolor": "#2a3f5f",
           "arrowhead": 0,
           "arrowwidth": 1
          },
          "autotypenumbers": "strict",
          "coloraxis": {
           "colorbar": {
            "outlinewidth": 0,
            "ticks": ""
           }
          },
          "colorscale": {
           "diverging": [
            [
             0,
             "#8e0152"
            ],
            [
             0.1,
             "#c51b7d"
            ],
            [
             0.2,
             "#de77ae"
            ],
            [
             0.3,
             "#f1b6da"
            ],
            [
             0.4,
             "#fde0ef"
            ],
            [
             0.5,
             "#f7f7f7"
            ],
            [
             0.6,
             "#e6f5d0"
            ],
            [
             0.7,
             "#b8e186"
            ],
            [
             0.8,
             "#7fbc41"
            ],
            [
             0.9,
             "#4d9221"
            ],
            [
             1,
             "#276419"
            ]
           ],
           "sequential": [
            [
             0,
             "#0d0887"
            ],
            [
             0.1111111111111111,
             "#46039f"
            ],
            [
             0.2222222222222222,
             "#7201a8"
            ],
            [
             0.3333333333333333,
             "#9c179e"
            ],
            [
             0.4444444444444444,
             "#bd3786"
            ],
            [
             0.5555555555555556,
             "#d8576b"
            ],
            [
             0.6666666666666666,
             "#ed7953"
            ],
            [
             0.7777777777777778,
             "#fb9f3a"
            ],
            [
             0.8888888888888888,
             "#fdca26"
            ],
            [
             1,
             "#f0f921"
            ]
           ],
           "sequentialminus": [
            [
             0,
             "#0d0887"
            ],
            [
             0.1111111111111111,
             "#46039f"
            ],
            [
             0.2222222222222222,
             "#7201a8"
            ],
            [
             0.3333333333333333,
             "#9c179e"
            ],
            [
             0.4444444444444444,
             "#bd3786"
            ],
            [
             0.5555555555555556,
             "#d8576b"
            ],
            [
             0.6666666666666666,
             "#ed7953"
            ],
            [
             0.7777777777777778,
             "#fb9f3a"
            ],
            [
             0.8888888888888888,
             "#fdca26"
            ],
            [
             1,
             "#f0f921"
            ]
           ]
          },
          "colorway": [
           "#636efa",
           "#EF553B",
           "#00cc96",
           "#ab63fa",
           "#FFA15A",
           "#19d3f3",
           "#FF6692",
           "#B6E880",
           "#FF97FF",
           "#FECB52"
          ],
          "font": {
           "color": "#2a3f5f"
          },
          "geo": {
           "bgcolor": "white",
           "lakecolor": "white",
           "landcolor": "#E5ECF6",
           "showlakes": true,
           "showland": true,
           "subunitcolor": "white"
          },
          "hoverlabel": {
           "align": "left"
          },
          "hovermode": "closest",
          "mapbox": {
           "style": "light"
          },
          "paper_bgcolor": "white",
          "plot_bgcolor": "#E5ECF6",
          "polar": {
           "angularaxis": {
            "gridcolor": "white",
            "linecolor": "white",
            "ticks": ""
           },
           "bgcolor": "#E5ECF6",
           "radialaxis": {
            "gridcolor": "white",
            "linecolor": "white",
            "ticks": ""
           }
          },
          "scene": {
           "xaxis": {
            "backgroundcolor": "#E5ECF6",
            "gridcolor": "white",
            "gridwidth": 2,
            "linecolor": "white",
            "showbackground": true,
            "ticks": "",
            "zerolinecolor": "white"
           },
           "yaxis": {
            "backgroundcolor": "#E5ECF6",
            "gridcolor": "white",
            "gridwidth": 2,
            "linecolor": "white",
            "showbackground": true,
            "ticks": "",
            "zerolinecolor": "white"
           },
           "zaxis": {
            "backgroundcolor": "#E5ECF6",
            "gridcolor": "white",
            "gridwidth": 2,
            "linecolor": "white",
            "showbackground": true,
            "ticks": "",
            "zerolinecolor": "white"
           }
          },
          "shapedefaults": {
           "line": {
            "color": "#2a3f5f"
           }
          },
          "ternary": {
           "aaxis": {
            "gridcolor": "white",
            "linecolor": "white",
            "ticks": ""
           },
           "baxis": {
            "gridcolor": "white",
            "linecolor": "white",
            "ticks": ""
           },
           "bgcolor": "#E5ECF6",
           "caxis": {
            "gridcolor": "white",
            "linecolor": "white",
            "ticks": ""
           }
          },
          "title": {
           "x": 0.05
          },
          "xaxis": {
           "automargin": true,
           "gridcolor": "white",
           "linecolor": "white",
           "ticks": "",
           "title": {
            "standoff": 15
           },
           "zerolinecolor": "white",
           "zerolinewidth": 2
          },
          "yaxis": {
           "automargin": true,
           "gridcolor": "white",
           "linecolor": "white",
           "ticks": "",
           "title": {
            "standoff": 15
           },
           "zerolinecolor": "white",
           "zerolinewidth": 2
          }
         }
        }
       }
      }
     },
     "metadata": {},
     "output_type": "display_data"
    }
   ],
   "source": [
    "\n",
    "fig.show()"
   ]
  },
  {
   "cell_type": "code",
   "execution_count": null,
   "metadata": {},
   "outputs": [],
   "source": []
  }
 ],
 "metadata": {
  "kernelspec": {
   "display_name": "dialRx",
   "language": "python",
   "name": "python3"
  },
  "language_info": {
   "codemirror_mode": {
    "name": "ipython",
    "version": 3
   },
   "file_extension": ".py",
   "mimetype": "text/x-python",
   "name": "python",
   "nbconvert_exporter": "python",
   "pygments_lexer": "ipython3",
   "version": "3.11.4"
  },
  "orig_nbformat": 4
 },
 "nbformat": 4,
 "nbformat_minor": 2
}
